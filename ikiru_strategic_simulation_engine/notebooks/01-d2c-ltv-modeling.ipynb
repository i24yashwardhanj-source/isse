{
 "cells": [
  {
   "cell_type": "markdown",
   "metadata": {},
   "source": [
    "# ISSE Module 1: D2C Customer Lifetime Value (LTV) Model\n",
    "\n",
    "This notebook builds the first component of our Customer Intelligence Engine. We will:\n",
    "1. Load the cleaned transactional data.\n",
    "2. Transform it into the RFM (Recency, Frequency, Monetary) format.\n",
    "3. Fit the BG/NBD model to understand purchase and churn behavior.\n",
    "4. Fit the Gamma-Gamma model to estimate average transaction values.\n",
    "5. Combine both models to forecast the Customer Lifetime Value (CLV) for each customer."
   ]
  },
  {
   "cell_type": "markdown",
   "metadata": {},
   "source": [
    "### Step 1: Load Processed Data"
   ]
  },
  {
   "cell_type": "code",
   "execution_count": null,
   "metadata": {},
   "outputs": [],
   "source": [
    "import pandas as pd\n",
    "import matplotlib.pyplot as plt\n",
    "import seaborn as sns\n",
    "from lifetimes.utils import summary_data_from_transaction_data\n",
    "from lifetimes import BetaGeoFitter, GammaGammaFitter\n",
    "from lifetimes.plotting import plot_frequency_recency_matrix, plot_probability_alive_matrix\n",
    "\n",
    "sns.set_style('whitegrid')\n",
    "\n",
    "# Load the cleaned data from our processing pipeline\n",
    "try:\n",
    "    orders_df = pd.read_csv('../data/processed/transactional_data.csv')\n",
    "    orders_df['order_date'] = pd.to_datetime(orders_df['order_date'])\n",
    "    print(\"Processed transactional data loaded successfully.\")\n",
    "    display(orders_df.head())\n",
    "except FileNotFoundError:\n",
    "    print(\"ERROR: Processed data not found. Please run 'make process-data' first.\")"
   ]
  },
  {
   "cell_type": "markdown",
   "metadata": {},
   "source": [
    "### Step 2: Create RFM Data"
   ]
  },
  {
   "cell_type": "code",
   "execution_count": null,
   "metadata": {},
   "outputs": [],
   "source": [
    "rfm_df = summary_data_from_transaction_data(\n",
    "    orders_df,\n",
    "    customer_id_col='customer_id',\n",
    "    datetime_col='order_date',\n",
    "    monetary_value_col='order_value'\n",
    ")\n",
    "\n",
    "print(\"RFM data created:\")\n",
    "display(rfm_df.head())"
   ]
  },
  {
   "cell_type": "markdown",
   "metadata": {},
   "source": [
    "### Step 3: Fit BG/NBD Model and Visualize Behavior"
   ]
  },
  {
   "cell_type": "code",
   "execution_count": null,
   "metadata": {},
   "outputs": [],
   "source": [
    "bgf = BetaGeoFitter(penalizer_coef=0.001) # Small penalizer for stability\n",
    "bgf.fit(rfm_df['frequency'], rfm_df['recency'], rfm_df['T'])\n",
    "\n",
    "print(\"BG/NBD Model Summary:\")\n",
    "display(bgf.summary)\n",
    "\n",
    "plt.figure(figsize=(12, 8))\n",
    "plot_frequency_recency_matrix(bgf)\n",
    "plt.title('Expected Number of Future Purchases')\n",
    "plt.show()\n",
    "\n",
    "plt.figure(figsize=(12, 8))\n",
    "plot_probability_alive_matrix(bgf)\n",
    "plt.title('Probability Customer is Still Active')\n",
    "plt.show()"
   ]
  },
  {
   "cell_type": "markdown",
   "metadata": {},
   "source": [
    "### Step 4: Fit Gamma-Gamma Model and Forecast CLV"
   ]
  },
  {
   "cell_type": "code",
   "execution_count": null,
   "metadata": {},
   "outputs": [],
   "source": [
    "# The Gamma-Gamma model requires customers with frequency > 0\n",
    "returning_customers = rfm_df[rfm_df['frequency'] > 0]\n",
    "\n",
    "# Check assumption: monetary value and frequency should not be correlated\n",
    "print(\"Correlation Matrix:\")\n",
    "display(returning_customers[['monetary_value', 'frequency']].corr())\n",
    "\n",
    "ggf = GammaGammaFitter(penalizer_coef=0.001)\n",
    "ggf.fit(returning_customers['frequency'], returning_customers['monetary_value'])\n",
    "\n",
    "print(\"Gamma-Gamma Model Summary:\")\n",
    "display(ggf.summary)\n",
    "\n",
    "# Forecast CLV for the next 12 months\n",
    "clv_forecast = ggf.customer_lifetime_value(\n",
    "    bgf, # The trained BG/NBD model\n",
    "    rfm_df['frequency'],\n",
    "    rfm_df['recency'],\n",
    "    rfm_df['T'],\n",
    "    rfm_df['monetary_value'],\n",
    "    time=12,  # 12 months\n",
    "    discount_rate=0.01 # Monthly discount rate (12% annually)\n",
    ")\n",
    "\n",
    "rfm_df['predicted_clv_12_months'] = clv_forecast\n",
    "\n",
    "print(\"\\nTop 10 Most Valuable Customers (Forecasted 12-Month CLV):\")\n",
    "display(rfm_df.sort_values(by='predicted_clv_12_months', ascending=False).head(10))"
   ]
  },
  {
   "cell_type": "markdown",
   "metadata": {},
   "source": [
    "### Step 5: Save Results"
   ]
  },
  {
   "cell_type": "code",
   "execution_count": null,
   "metadata": {},
   "outputs": [],
   "source": [
    "output_path = '../data/processed/customer_ltv_predictions.csv'\n",
    "rfm_df.to_csv(output_path)\n",
    "print(f\"LTV predictions saved to {output_path}\")"
   ]
  }
 ],
 "metadata": {
  "kernelspec": {
   "display_name": "Python 3",
   "language": "python",
   "name": "python3"
  },
  "language_info": {
   "codemirror_mode": {
    "name": "ipython",
    "version": 3
   },
   "file_extension": ".py",
   "mimetype": "text/x-python",
   "name": "python",
   "nbconvert_exporter": "python",
   "pygments_lexer": "ipython3",
   "version": "3.10.9"
  }
 },
 "nbformat": 4,
 "nbformat_minor": 4
}
